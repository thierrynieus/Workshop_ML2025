{
 "cells": [
  {
   "cell_type": "markdown",
   "id": "e4d408f9",
   "metadata": {},
   "source": [
    "https://towardsdatascience.com/your-first-neural-network-in-pytorch-725631ae0fc/"
   ]
  },
  {
   "cell_type": "code",
   "execution_count": null,
   "id": "7d663783",
   "metadata": {},
   "outputs": [],
   "source": [
    "!pip install numpy pandas torch matplotlib scikit-learn --quiet"
   ]
  },
  {
   "cell_type": "code",
   "execution_count": null,
   "id": "68a7e47a",
   "metadata": {},
   "outputs": [],
   "source": [
    "import torch\n",
    "import torch.nn as nn\n",
    "import torch.nn.functional as F\n",
    "import pandas as pd\n",
    "import matplotlib.pyplot as plt\n",
    "from sklearn.model_selection import train_test_split\n"
   ]
  },
  {
   "cell_type": "code",
   "execution_count": null,
   "id": "ae644594",
   "metadata": {},
   "outputs": [],
   "source": [
    "from sklearn.datasets import load_iris\n",
    "iris = load_iris(as_frame=True)\n",
    "\n",
    "df_iris = pd.DataFrame(data = iris.data)\n",
    "df_iris['target'] = iris.target"
   ]
  },
  {
   "cell_type": "code",
   "execution_count": null,
   "id": "deb263e6",
   "metadata": {},
   "outputs": [],
   "source": [
    "# iris = pd.read_csv('https://raw.githubusercontent.com/pandas-dev/pandas/master/pandas/tests/data/iris.csv')\n",
    "# iris.head()"
   ]
  },
  {
   "cell_type": "code",
   "execution_count": null,
   "id": "7d6482c8",
   "metadata": {},
   "outputs": [],
   "source": [
    "X = df_iris.drop('target', axis=1).values\n",
    "y = df_iris['target'].values\n",
    "X_train, X_test, y_train, y_test = train_test_split(X, y, test_size=0.2, random_state=42)\n",
    "X_train = torch.FloatTensor(X_train)\n",
    "X_test = torch.FloatTensor(X_test)\n",
    "y_train = torch.LongTensor(y_train)\n",
    "y_test = torch.LongTensor(y_test)\n"
   ]
  },
  {
   "cell_type": "code",
   "execution_count": null,
   "id": "863e17c0",
   "metadata": {},
   "outputs": [],
   "source": [
    "class ANN(nn.Module):\n",
    "    def __init__(self):\n",
    "        super().__init__()\n",
    "        self.fc1 = nn.Linear(in_features=4, out_features=16)\n",
    "        self.fc2 = nn.Linear(in_features=16, out_features=12)\n",
    "        self.output = nn.Linear(in_features=12, out_features=3)\n",
    "\n",
    "    def forward(self, x):\n",
    "        x = F.relu(self.fc1(x))\n",
    "        x = F.relu(self.fc2(x))\n",
    "        x = self.output(x)\n",
    "        return x"
   ]
  },
  {
   "cell_type": "code",
   "execution_count": null,
   "id": "d5d0f4da",
   "metadata": {},
   "outputs": [],
   "source": [
    "model = ANN()\n",
    "model"
   ]
  },
  {
   "cell_type": "code",
   "execution_count": null,
   "id": "512915e4",
   "metadata": {},
   "outputs": [],
   "source": [
    "criterion = nn.CrossEntropyLoss()\n",
    "optimizer = torch.optim.Adam(model.parameters(), lr=0.01)"
   ]
  },
  {
   "cell_type": "code",
   "execution_count": null,
   "id": "461718b1",
   "metadata": {},
   "outputs": [],
   "source": [
    "%%time\n",
    "epochs = 100\n",
    "loss_arr = []\n",
    "for i in range(epochs):\n",
    "    y_hat = model.forward(X_train)\n",
    "    loss = criterion(y_hat, y_train)\n",
    "    loss_arr.append(loss.item())\n",
    "\n",
    "    if i % 10 == 0:\n",
    "        print(f'Epoch: {i} Loss: {loss}')\n",
    "\n",
    "    optimizer.zero_grad()\n",
    "    loss.backward()\n",
    "    optimizer.step()\n",
    "\n",
    "plt.plot(loss_arr)"
   ]
  },
  {
   "cell_type": "code",
   "execution_count": null,
   "id": "7e0a5c4e",
   "metadata": {},
   "outputs": [],
   "source": [
    "preds = []\n",
    "with torch.no_grad():\n",
    "   for val in X_test:\n",
    "       y_hat = model.forward(val)\n",
    "       preds.append(y_hat.argmax().item())\n"
   ]
  },
  {
   "cell_type": "code",
   "execution_count": null,
   "id": "7099b66c",
   "metadata": {},
   "outputs": [],
   "source": [
    "df = pd.DataFrame({'Y': y_test, 'YHat': preds})\n",
    "df['Correct'] = [1 if corr == pred else 0 for corr, pred in zip(df['Y'], df['YHat'])]\n"
   ]
  },
  {
   "cell_type": "code",
   "execution_count": null,
   "id": "53c0f992",
   "metadata": {},
   "outputs": [],
   "source": [
    "df['Correct'].sum() / len(df)\n"
   ]
  },
  {
   "cell_type": "markdown",
   "id": "df97d824",
   "metadata": {},
   "source": [
    "# TODO\n",
    "\n",
    "1. Verify how the performances change with different numbers of layers and internal nodes.\n",
    "2. Apply the same CCN to another dataset (e.g. weatherAUS_cleaned.csv)"
   ]
  }
 ],
 "metadata": {
  "language_info": {
   "name": "python"
  }
 },
 "nbformat": 4,
 "nbformat_minor": 5
}
