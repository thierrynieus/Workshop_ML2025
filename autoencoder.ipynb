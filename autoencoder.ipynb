{
 "cells": [
  {
   "cell_type": "markdown",
   "id": "61f05810",
   "metadata": {},
   "source": [
    "https://www.datacamp.com/tutorial/introduction-to-autoencoders"
   ]
  },
  {
   "cell_type": "code",
   "execution_count": null,
   "id": "e29084e9",
   "metadata": {},
   "outputs": [],
   "source": [
    "!pip install numpy pandas torch matplotlib scikit-learn --quiet"
   ]
  },
  {
   "cell_type": "code",
   "execution_count": null,
   "id": "75a59671",
   "metadata": {},
   "outputs": [],
   "source": [
    "import numpy as np\n",
    "import pandas as pd\n",
    "import torch\n",
    "import torch.nn as nn\n",
    "import torch.optim as optim\n",
    "import matplotlib.pyplot as plt\n",
    "from sklearn.preprocessing import StandardScaler, LabelEncoder\n",
    "from mpl_toolkits.mplot3d import Axes3D\n",
    "\n",
    "df = pd.read_csv(\"weatherAUS.csv\")\n",
    "df = df.drop(['Date', 'Location', 'WindDir9am',\n",
    "             'WindGustDir', 'WindDir3pm'], axis=1)\n",
    "df = df.dropna(how = 'any')\n",
    "df.loc[df['RainToday'] == 'No', 'RainToday'] = 0\n",
    "df.loc[df['RainToday'] == 'Yes', 'RainToday'] = 1\n",
    "df.head()"
   ]
  },
  {
   "cell_type": "code",
   "execution_count": null,
   "id": "5d6cd4c1",
   "metadata": {},
   "outputs": [],
   "source": [
    "# !pip install torch"
   ]
  },
  {
   "cell_type": "code",
   "execution_count": null,
   "id": "28520273",
   "metadata": {},
   "outputs": [],
   "source": [
    "X, Y = df.drop('RainTomorrow', axis=1, inplace=False), df[['RainTomorrow']]\n",
    "# Normalizing Data\n",
    "scaler = StandardScaler()\n",
    "X_scaled = scaler.fit_transform(X)\n",
    "\n",
    "# Converting to PyTorch tensor\n",
    "X_tensor = torch.FloatTensor(X_scaled)\n",
    "\n",
    "# Converting string labels to numerical labels\n",
    "label_encoder = LabelEncoder()\n",
    "Y_numerical = label_encoder.fit_transform(Y.values.ravel())"
   ]
  },
  {
   "cell_type": "code",
   "execution_count": null,
   "id": "811e9680",
   "metadata": {},
   "outputs": [],
   "source": [
    "# Defining Autoencoder model\n",
    "class Autoencoder(nn.Module):\n",
    "   def __init__(self, input_size, encoding_dim):\n",
    "       super(Autoencoder, self).__init__()\n",
    "       self.encoder = nn.Sequential(\n",
    "           nn.Linear(input_size, 16),\n",
    "           nn.ReLU(),\n",
    "           nn.Linear(16, encoding_dim),\n",
    "           nn.ReLU()\n",
    "       )\n",
    "       self.decoder = nn.Sequential(\n",
    "           nn.Linear(encoding_dim, 16),\n",
    "           nn.ReLU(),\n",
    "           nn.Linear(16, input_size),\n",
    "           nn.Sigmoid()\n",
    "       )\n",
    "\n",
    "   def forward(self, x):\n",
    "       x = self.encoder(x)\n",
    "       x = self.decoder(x)\n",
    "       return x"
   ]
  },
  {
   "cell_type": "code",
   "execution_count": null,
   "id": "101207e8",
   "metadata": {},
   "outputs": [],
   "source": [
    "# Setting random seed for reproducibility\n",
    "torch.manual_seed(42)\n",
    "\n",
    "input_size = X.shape[1]  # Number of input features\n",
    "encoding_dim = 3  # Desired number of output dimensions\n",
    "model = Autoencoder(input_size, encoding_dim)\n",
    "\n",
    "# Loss function and optimizer\n",
    "criterion = nn.MSELoss()\n",
    "optimizer = optim.Adam(model.parameters(), lr=0.003)\n",
    "\n",
    "# Training the autoencoder\n",
    "num_epochs = 20\n",
    "for epoch in range(num_epochs):\n",
    "   # Forward pass\n",
    "   outputs = model(X_tensor)\n",
    "   loss = criterion(outputs, X_tensor)\n",
    "\n",
    "   # Backward pass and optimization\n",
    "   optimizer.zero_grad()\n",
    "   loss.backward()\n",
    "   optimizer.step()\n",
    "\n",
    "   # Loss for each epoch\n",
    "   print(f'Epoch [{epoch + 1}/{num_epochs}], Loss: {loss.item():.4f}')\n",
    "\n",
    "# Encoding the data using the trained autoencoder\n",
    "encoded_data = model.encoder(X_tensor).detach().numpy()"
   ]
  },
  {
   "cell_type": "code",
   "execution_count": null,
   "id": "cbfa70a0",
   "metadata": {},
   "outputs": [],
   "source": [
    "# Plotting the encoded data in 3D space\n",
    "fig = plt.figure(figsize=(8, 8))\n",
    "ax = fig.add_subplot(111, projection='3d')\n",
    "scatter = ax.scatter(encoded_data[:, 0], encoded_data[:, 1],\n",
    "                    encoded_data[:, 2], c=Y_numerical, cmap='viridis')\n",
    "\n",
    "# Mapping numerical labels back to original string labels for the legend\n",
    "labels = label_encoder.inverse_transform(np.unique(Y_numerical))\n",
    "legend_labels = {num: label for num, label in zip(np.unique(Y_numerical),\n",
    "                                                 labels)}\n",
    "\n",
    "# Creating a custom legend with original string labels\n",
    "handles = [plt.Line2D([0], [0], marker='o', color='w',\n",
    "                    markerfacecolor=scatter.to_rgba(num),\n",
    "                    markersize=10,\n",
    "                    label=legend_labels[num]) for num in np.unique(Y_numerical)]\n",
    "ax.legend(handles=handles, title=\"Raining Tomorrow?\")\n",
    "\n",
    "# Adjusting the layout to provide more space for labels\n",
    "ax.xaxis.labelpad = 20\n",
    "ax.yaxis.labelpad = 20\n",
    "\n",
    "ax.set_xticks([])\n",
    "ax.set_yticks([])\n",
    "ax.set_zticks([])\n",
    "\n",
    "# Manually adding z-axis label for better visibility\n",
    "ax.text2D(0.05, 0.95, 'Encoded Dimension 3', transform=ax.transAxes,\n",
    "         fontsize=12, color='black')\n",
    "\n",
    "ax.set_xlabel('Encoded Dimension 1')\n",
    "ax.set_ylabel('Encoded Dimension 2')\n",
    "ax.set_title('Autoencoder Dimensionality Reduction')\n",
    "\n",
    "plt.tight_layout()\n",
    "\n",
    "plt.savefig('Rain_Prediction_Autoencoder.png')\n",
    "\n",
    "plt.show()"
   ]
  }
 ],
 "metadata": {
  "kernelspec": {
   "display_name": "base",
   "language": "python",
   "name": "python3"
  },
  "language_info": {
   "codemirror_mode": {
    "name": "ipython",
    "version": 3
   },
   "file_extension": ".py",
   "mimetype": "text/x-python",
   "name": "python",
   "nbconvert_exporter": "python",
   "pygments_lexer": "ipython3",
   "version": "3.9.7"
  }
 },
 "nbformat": 4,
 "nbformat_minor": 5
}
