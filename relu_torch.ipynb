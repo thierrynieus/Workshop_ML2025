{
 "cells": [
  {
   "cell_type": "code",
   "execution_count": null,
   "id": "e704447e",
   "metadata": {},
   "outputs": [],
   "source": [
    "!pip install numpy pandas torch matplotlib scikit-learn --quiet"
   ]
  },
  {
   "cell_type": "code",
   "execution_count": null,
   "id": "254ef052",
   "metadata": {},
   "outputs": [],
   "source": [
    "import torch\n",
    "import torch.nn as nn\n",
    "\n",
    "# Define the ReLU function\n",
    "relu = nn.ReLU()\n",
    "\n",
    "# Define an input tensor\n",
    "input_tensor = torch.tensor([[-1., 8., 1., 13., 9.],\n",
    "                             [0., 1., 0., 5., -5.],\n",
    "                             [3., -5., 8., -1., 5.],\n",
    "                             [0., 3., -1., 13., 12.]])\n",
    "\n",
    "# Apply the ReLU function to the input tensor\n",
    "output_tensor = relu(input_tensor)\n",
    "\n",
    "# Print the output tensor\n",
    "print(\"ReLU Tensor:\", output_tensor)"
   ]
  }
 ],
 "metadata": {
  "language_info": {
   "name": "python"
  }
 },
 "nbformat": 4,
 "nbformat_minor": 5
}
